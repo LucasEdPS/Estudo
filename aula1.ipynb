{
  "nbformat": 4,
  "nbformat_minor": 0,
  "metadata": {
    "colab": {
      "provenance": [],
      "authorship_tag": "ABX9TyPB9GC1FSSiD9HuysnPpiGE",
      "include_colab_link": true
    },
    "kernelspec": {
      "name": "python3",
      "display_name": "Python 3"
    },
    "language_info": {
      "name": "python"
    }
  },
  "cells": [
    {
      "cell_type": "markdown",
      "metadata": {
        "id": "view-in-github",
        "colab_type": "text"
      },
      "source": [
        "<a href=\"https://colab.research.google.com/github/LucasEdPS/Estudo/blob/main/aula1.ipynb\" target=\"_parent\"><img src=\"https://colab.research.google.com/assets/colab-badge.svg\" alt=\"Open In Colab\"/></a>"
      ]
    },
    {
      "cell_type": "code",
      "execution_count": 1,
      "metadata": {
        "colab": {
          "base_uri": "https://localhost:8080/"
        },
        "id": "cZFwVOVp6Tv6",
        "outputId": "9edc8e83-50d8-44ac-e7d5-818996d37767"
      },
      "outputs": [
        {
          "output_type": "stream",
          "name": "stdout",
          "text": [
            "1.7e+308\n"
          ]
        }
      ],
      "source": [
        "print(1.7e308)"
      ]
    },
    {
      "cell_type": "code",
      "source": [
        "print(1.82e308)"
      ],
      "metadata": {
        "colab": {
          "base_uri": "https://localhost:8080/"
        },
        "id": "OxsPbRHr694p",
        "outputId": "ed1a656c-e3b8-4c05-a4ec-034aa2be6da6"
      },
      "execution_count": 2,
      "outputs": [
        {
          "output_type": "stream",
          "name": "stdout",
          "text": [
            "inf\n"
          ]
        }
      ]
    },
    {
      "cell_type": "code",
      "source": [
        "print(1.83e309 – 1.82e308)"
      ],
      "metadata": {
        "colab": {
          "base_uri": "https://localhost:8080/",
          "height": 108
        },
        "id": "iZjqfwrO7EKF",
        "outputId": "a6e4cca8-4264-407d-89f2-cc2f5338c6b6"
      },
      "execution_count": 3,
      "outputs": [
        {
          "output_type": "error",
          "ename": "SyntaxError",
          "evalue": "invalid character '–' (U+2013) (<ipython-input-3-82e4c1c1f8bd>, line 1)",
          "traceback": [
            "\u001b[0;36m  File \u001b[0;32m\"<ipython-input-3-82e4c1c1f8bd>\"\u001b[0;36m, line \u001b[0;32m1\u001b[0m\n\u001b[0;31m    print(1.83e309 – 1.82e308)\u001b[0m\n\u001b[0m                   ^\u001b[0m\n\u001b[0;31mSyntaxError\u001b[0m\u001b[0;31m:\u001b[0m invalid character '–' (U+2013)\n"
          ]
        }
      ]
    },
    {
      "cell_type": "code",
      "source": [
        "import sys\n",
        "menor_incremento = sys.float_info.epsilon\n",
        "print(\"Menor incremento entre números de ponto flutuante:\", menor_incremento)"
      ],
      "metadata": {
        "colab": {
          "base_uri": "https://localhost:8080/"
        },
        "id": "60Gg4FSM7H2Z",
        "outputId": "7325234d-febb-4bd3-c4d1-021ef2aca7f5"
      },
      "execution_count": 5,
      "outputs": [
        {
          "output_type": "stream",
          "name": "stdout",
          "text": [
            "Menor incremento entre números de ponto flutuante: 2.220446049250313e-16\n"
          ]
        }
      ]
    },
    {
      "cell_type": "code",
      "source": [
        "x=1.0; y=1.0*10**15;z=1.0*10**16"
      ],
      "metadata": {
        "id": "mq3h-z3K7hSz"
      },
      "execution_count": 18,
      "outputs": []
    },
    {
      "cell_type": "code",
      "source": [
        "print(y-y+x,y+(-y+x),z-z+x,z+(-z+x))"
      ],
      "metadata": {
        "colab": {
          "base_uri": "https://localhost:8080/"
        },
        "id": "IUIKAqSx7qDP",
        "outputId": "18099396-3d54-4540-e4bb-8e927e1468c7"
      },
      "execution_count": 19,
      "outputs": [
        {
          "output_type": "stream",
          "name": "stdout",
          "text": [
            "1.0 1.0 1.0 0.0\n"
          ]
        }
      ]
    },
    {
      "cell_type": "code",
      "source": [
        "vetor_inteiro = [1, 2, 3, 4, 5]\n",
        "print(vetor_inteiro)"
      ],
      "metadata": {
        "colab": {
          "base_uri": "https://localhost:8080/"
        },
        "id": "a8uVDwifADom",
        "outputId": "9b71354a-ea1d-48d4-f4be-964f59649092"
      },
      "execution_count": 22,
      "outputs": [
        {
          "output_type": "stream",
          "name": "stdout",
          "text": [
            "[1, 2, 3, 4, 5]\n"
          ]
        }
      ]
    },
    {
      "cell_type": "code",
      "source": [
        "import numpy as np\n",
        "vetor_numpy = np.array([1, 2, 3, 4, 5])\n",
        "print(vetor_numpy)"
      ],
      "metadata": {
        "colab": {
          "base_uri": "https://localhost:8080/"
        },
        "id": "Aj-twqyXAEdq",
        "outputId": "50c64e72-677f-4f92-dd0c-44b85c5c3599"
      },
      "execution_count": 23,
      "outputs": [
        {
          "output_type": "stream",
          "name": "stdout",
          "text": [
            "[1 2 3 4 5]\n"
          ]
        }
      ]
    },
    {
      "cell_type": "code",
      "source": [
        "from array import array\n",
        "# Criando um vetor usando o módulo array\n",
        "vetor_array = array('i', [1, 2, 3, 4, 5])\n",
        "print(vetor_array)"
      ],
      "metadata": {
        "colab": {
          "base_uri": "https://localhost:8080/"
        },
        "id": "MNUXfKQLBQnw",
        "outputId": "73480ca9-6f6f-47b5-db3b-b443cd6aad82"
      },
      "execution_count": 24,
      "outputs": [
        {
          "output_type": "stream",
          "name": "stdout",
          "text": [
            "array('i', [1, 2, 3, 4, 5])\n"
          ]
        }
      ]
    },
    {
      "cell_type": "code",
      "source": [
        "import math\n",
        "# Definindo um vetor como uma lista\n",
        "vetor = [3, 4]\n",
        "# Calculando a norma (norma L2 ou euclidiana) manualmente\n",
        "norma = math.sqrt(sum(x**2 for x in vetor))\n",
        "print(\"Norma do vetor:\", norma)"
      ],
      "metadata": {
        "colab": {
          "base_uri": "https://localhost:8080/"
        },
        "id": "D7Y6-N7DB8r_",
        "outputId": "ab9b726d-bb33-4c78-8011-54d735fa9d50"
      },
      "execution_count": 25,
      "outputs": [
        {
          "output_type": "stream",
          "name": "stdout",
          "text": [
            "Norma do vetor: 5.0\n"
          ]
        }
      ]
    },
    {
      "cell_type": "code",
      "source": [
        "# Definindo um vetor usando NumPy\n",
        "vetor_numpy = np.array([3, 4])\n",
        "# Calculando a norma usando NumPy\n",
        "norma_numpy = np.linalg.norm(vetor_numpy)\n",
        "print(\"Norma do vetor (NumPy):\", norma_numpy)"
      ],
      "metadata": {
        "colab": {
          "base_uri": "https://localhost:8080/"
        },
        "id": "H6qpnjP4CM96",
        "outputId": "e067f522-c68c-40dc-ac21-204d83bcd9d5"
      },
      "execution_count": 26,
      "outputs": [
        {
          "output_type": "stream",
          "name": "stdout",
          "text": [
            "Norma do vetor (NumPy): 5.0\n"
          ]
        }
      ]
    },
    {
      "cell_type": "code",
      "source": [
        "import numpy as np\n",
        "vetor_numpy = np.array([3, 4])\n",
        "# Calculando a norma L1 usando NumPy\n",
        "norma_L1 = np.linalg.norm(vetor_numpy, ord=1)\n",
        "print(\"Norma L1 do vetor:\", norma_L1)"
      ],
      "metadata": {
        "colab": {
          "base_uri": "https://localhost:8080/"
        },
        "id": "D7JUcFHUDCct",
        "outputId": "e99c26f3-d1ac-42f0-cfdf-29093e300b4d"
      },
      "execution_count": 27,
      "outputs": [
        {
          "output_type": "stream",
          "name": "stdout",
          "text": [
            "Norma L1 do vetor: 7.0\n"
          ]
        }
      ]
    },
    {
      "cell_type": "code",
      "source": [
        "matriz = [\n",
        "[1, 2, 3], # Primeira linha\n",
        "[4, 5, 6], # Segunda linha\n",
        "[7, 8, 9] # Terceira linha\n",
        "]\n",
        "print(matriz)"
      ],
      "metadata": {
        "colab": {
          "base_uri": "https://localhost:8080/"
        },
        "id": "bxD3_N_SFiQ7",
        "outputId": "3b394a3f-0de9-4894-bffd-36855bd11b75"
      },
      "execution_count": 28,
      "outputs": [
        {
          "output_type": "stream",
          "name": "stdout",
          "text": [
            "[[1, 2, 3], [4, 5, 6], [7, 8, 9]]\n"
          ]
        }
      ]
    },
    {
      "cell_type": "code",
      "source": [
        "# Criando uma matriz usando NumPy\n",
        "matriz_numpy = np.array([\n",
        "[1, 2, 3], # Primeira linha\n",
        "[4, 5, 6], # Segunda linha\n",
        "[7, 8, 9] # Terceira linha\n",
        "])\n",
        "print(matriz_numpy)"
      ],
      "metadata": {
        "colab": {
          "base_uri": "https://localhost:8080/"
        },
        "id": "t8uMBc_dFuqv",
        "outputId": "8c1eec77-89c6-4ffa-c65a-0736863a32d4"
      },
      "execution_count": 30,
      "outputs": [
        {
          "output_type": "stream",
          "name": "stdout",
          "text": [
            "[[1 2 3]\n",
            " [4 5 6]\n",
            " [7 8 9]]\n"
          ]
        }
      ]
    },
    {
      "cell_type": "code",
      "source": [
        "# Gerando uma matriz 3x3 de valores aleatórios entre 0 e 1\n",
        "matriz_aleatoria_uniforme = np.random.rand(3, 3)\n",
        "print(\"Matriz aleatória (distribuição uniforme):\\n\", matriz_aleatoria_uniforme)"
      ],
      "metadata": {
        "colab": {
          "base_uri": "https://localhost:8080/"
        },
        "id": "kPpC-AfRGGqn",
        "outputId": "be03065a-950f-486c-b6a1-f2c27795e212"
      },
      "execution_count": 31,
      "outputs": [
        {
          "output_type": "stream",
          "name": "stdout",
          "text": [
            "Matriz aleatória (distribuição uniforme):\n",
            " [[0.02004286 0.59837058 0.98358207]\n",
            " [0.93983573 0.72517669 0.4412994 ]\n",
            " [0.74841643 0.66476245 0.79493677]]\n"
          ]
        }
      ]
    },
    {
      "cell_type": "code",
      "source": [
        "# Gerando uma matriz 3x3 de valores aleatórios com distribuição normal\n",
        "matriz_aleatoria_normal = np.random.randn(3, 3)\n",
        "print(\"Matriz aleatória (distribuição normal):\\n\", matriz_aleatoria_normal)"
      ],
      "metadata": {
        "colab": {
          "base_uri": "https://localhost:8080/"
        },
        "id": "5DqUCn8XGX-s",
        "outputId": "b015c08a-d022-465f-8e8a-856b7d57d0a0"
      },
      "execution_count": 32,
      "outputs": [
        {
          "output_type": "stream",
          "name": "stdout",
          "text": [
            "Matriz aleatória (distribuição normal):\n",
            " [[ 0.28873711  0.47874922 -1.25897984]\n",
            " [-1.10244048  0.96381607  0.14075481]\n",
            " [-3.26628258 -0.28168361  0.66584507]]\n"
          ]
        }
      ]
    },
    {
      "cell_type": "code",
      "source": [
        "# Criando uma matriz usando NumPy\n",
        "matriz = np.array([\n",
        "[1, 2],\n",
        "[3, 4]\n",
        "])\n",
        "print(matriz)\n",
        "# Calculando a norma de matriz usando NumPy\n",
        "norma_matriz = np.linalg.norm(matriz)\n",
        "print(\"Norma da matriz:\", norma_matriz)"
      ],
      "metadata": {
        "colab": {
          "base_uri": "https://localhost:8080/"
        },
        "id": "-kzCFxb_HMOL",
        "outputId": "c70d39dd-1288-4c8b-baf0-41baa3428db9"
      },
      "execution_count": 36,
      "outputs": [
        {
          "output_type": "stream",
          "name": "stdout",
          "text": [
            "[[1 2]\n",
            " [3 4]]\n",
            "Norma da matriz: 5.477225575051661\n"
          ]
        }
      ]
    },
    {
      "cell_type": "code",
      "source": [
        "# Criando uma matriz\n",
        "matriz =[\n",
        "[1, 2],\n",
        "[3, 4]\n",
        "]\n",
        "print(matriz)\n",
        "# Calculando a norma de matriz usando NumPy\n",
        "norma_matriz = np.linalg.norm(matriz)\n",
        "print(\"Norma da matriz:\", norma_matriz)"
      ],
      "metadata": {
        "colab": {
          "base_uri": "https://localhost:8080/"
        },
        "id": "irYI1tgOHz0T",
        "outputId": "571d6544-dc4f-4ddf-f3cb-d67f41cda780"
      },
      "execution_count": 38,
      "outputs": [
        {
          "output_type": "stream",
          "name": "stdout",
          "text": [
            "[[1, 2], [3, 4]]\n",
            "Norma da matriz: 5.477225575051661\n"
          ]
        }
      ]
    },
    {
      "cell_type": "code",
      "source": [
        "# Criando uma matriz\n",
        "matriz =[\n",
        "[1, 2],\n",
        "[3, 4]\n",
        "]\n",
        "# Criando uma matriz Numpy a partir da matriz\n",
        "matriz = np.array(matriz)\n",
        "print(matriz)\n",
        "# Calculando a norma de matriz usando NumPy\n",
        "norma_matriz = np.linalg.norm(matriz)\n",
        "print(\"Norma da matriz:\", norma_matriz)"
      ],
      "metadata": {
        "colab": {
          "base_uri": "https://localhost:8080/"
        },
        "id": "gjXWA7D2ID-1",
        "outputId": "095aa719-2535-4052-bcf6-a279577ed942"
      },
      "execution_count": 39,
      "outputs": [
        {
          "output_type": "stream",
          "name": "stdout",
          "text": [
            "[[1 2]\n",
            " [3 4]]\n",
            "Norma da matriz: 5.477225575051661\n"
          ]
        }
      ]
    }
  ]
}